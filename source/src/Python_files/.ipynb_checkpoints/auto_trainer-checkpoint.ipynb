{
 "cells": [
  {
   "cell_type": "code",
   "execution_count": null,
   "id": "45c5817f",
   "metadata": {},
   "outputs": [],
   "source": [
    "import os\n",
    "import pandas as pd\n",
    "import subprocess"
   ]
  },
  {
   "cell_type": "code",
   "execution_count": null,
   "id": "b301b940",
   "metadata": {
    "scrolled": true
   },
   "outputs": [],
   "source": [
    "data = pd.read_csv(\"auto_trainer_conf.csv\")"
   ]
  },
  {
   "cell_type": "code",
   "execution_count": null,
   "id": "eeb29f5c",
   "metadata": {},
   "outputs": [],
   "source": [
    "if(data.run_numbers[0] != 19):\n",
    "    data.run_numbers[0] += 1\n",
    "    data.to_csv(\"auto_trainer_conf.csv\" , sep=',',index=False)\n",
    "\n",
    "else:\n",
    "    data.run_numbers[0] = 0\n",
    "    data.games_played[0] += 1\n",
    "    \n",
    "    data.to_csv(\"auto_trainer_conf.csv\" , sep=',',index=False)\n",
    "    subprocess.Popen([\"rcssserver\"])\n",
    "    subprocess.Popen([\"./start.sh\"])\n",
    "    subprocess.Popen([\"./start.sh -t Galaxy_Coders2\"])\n",
    "    "
   ]
  }
 ],
 "metadata": {
  "kernelspec": {
   "display_name": "Python 3 (ipykernel)",
   "language": "python",
   "name": "python3"
  },
  "language_info": {
   "codemirror_mode": {
    "name": "ipython",
    "version": 3
   },
   "file_extension": ".py",
   "mimetype": "text/x-python",
   "name": "python",
   "nbconvert_exporter": "python",
   "pygments_lexer": "ipython3",
   "version": "3.9.12"
  }
 },
 "nbformat": 4,
 "nbformat_minor": 5
}
